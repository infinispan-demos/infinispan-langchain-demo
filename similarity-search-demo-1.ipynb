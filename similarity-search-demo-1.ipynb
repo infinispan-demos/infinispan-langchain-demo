{
 "cells": [
  {
   "cell_type": "markdown",
   "id": "cffb482c-bbd8-4829-b185-0d930a5fe0bc",
   "metadata": {},
   "source": [
    "# Infinispan VectorStore: similarity search demo 1\n",
    "\n",
    "Infinispan is an open-source key-value data grid, it can work as single node as well as distributed.\n",
    "\n",
    "Vector search is supported since release 15.x\n",
    "For more: [Infinispan Home](https://infinispan.org)"
   ]
  },
  {
   "cell_type": "code",
   "execution_count": 2,
   "id": "03ec8f9a-7641-47ea-9fa0-f43ee9fc79a3",
   "metadata": {},
   "outputs": [
    {
     "name": "stdout",
     "output_type": "stream",
     "text": [
      "Requirement already satisfied: sentence-transformers in ./.venv/lib/python3.9/site-packages (2.5.1)\n",
      "Requirement already satisfied: transformers<5.0.0,>=4.32.0 in ./.venv/lib/python3.9/site-packages (from sentence-transformers) (4.38.2)\n",
      "Requirement already satisfied: tqdm in ./.venv/lib/python3.9/site-packages (from sentence-transformers) (4.66.2)\n",
      "Requirement already satisfied: torch>=1.11.0 in ./.venv/lib/python3.9/site-packages (from sentence-transformers) (2.2.1)\n",
      "Requirement already satisfied: numpy in ./.venv/lib/python3.9/site-packages (from sentence-transformers) (1.26.4)\n",
      "Requirement already satisfied: scikit-learn in ./.venv/lib/python3.9/site-packages (from sentence-transformers) (1.4.1.post1)\n",
      "Requirement already satisfied: scipy in ./.venv/lib/python3.9/site-packages (from sentence-transformers) (1.12.0)\n",
      "Requirement already satisfied: huggingface-hub>=0.15.1 in ./.venv/lib/python3.9/site-packages (from sentence-transformers) (0.21.3)\n",
      "Requirement already satisfied: Pillow in ./.venv/lib/python3.9/site-packages (from sentence-transformers) (10.2.0)\n",
      "Requirement already satisfied: filelock in ./.venv/lib/python3.9/site-packages (from huggingface-hub>=0.15.1->sentence-transformers) (3.13.1)\n",
      "Requirement already satisfied: fsspec>=2023.5.0 in ./.venv/lib/python3.9/site-packages (from huggingface-hub>=0.15.1->sentence-transformers) (2024.2.0)\n",
      "Requirement already satisfied: requests in ./.venv/lib/python3.9/site-packages (from huggingface-hub>=0.15.1->sentence-transformers) (2.31.0)\n",
      "Requirement already satisfied: pyyaml>=5.1 in ./.venv/lib/python3.9/site-packages (from huggingface-hub>=0.15.1->sentence-transformers) (6.0.1)\n",
      "Requirement already satisfied: typing-extensions>=3.7.4.3 in ./.venv/lib/python3.9/site-packages (from huggingface-hub>=0.15.1->sentence-transformers) (4.10.0)\n",
      "Requirement already satisfied: packaging>=20.9 in ./.venv/lib/python3.9/site-packages (from huggingface-hub>=0.15.1->sentence-transformers) (23.2)\n",
      "Requirement already satisfied: sympy in ./.venv/lib/python3.9/site-packages (from torch>=1.11.0->sentence-transformers) (1.12)\n",
      "Requirement already satisfied: networkx in ./.venv/lib/python3.9/site-packages (from torch>=1.11.0->sentence-transformers) (3.2.1)\n",
      "Requirement already satisfied: jinja2 in ./.venv/lib/python3.9/site-packages (from torch>=1.11.0->sentence-transformers) (3.1.3)\n",
      "Requirement already satisfied: nvidia-cuda-nvrtc-cu12==12.1.105 in ./.venv/lib/python3.9/site-packages (from torch>=1.11.0->sentence-transformers) (12.1.105)\n",
      "Requirement already satisfied: nvidia-cuda-runtime-cu12==12.1.105 in ./.venv/lib/python3.9/site-packages (from torch>=1.11.0->sentence-transformers) (12.1.105)\n",
      "Requirement already satisfied: nvidia-cuda-cupti-cu12==12.1.105 in ./.venv/lib/python3.9/site-packages (from torch>=1.11.0->sentence-transformers) (12.1.105)\n",
      "Requirement already satisfied: nvidia-cudnn-cu12==8.9.2.26 in ./.venv/lib/python3.9/site-packages (from torch>=1.11.0->sentence-transformers) (8.9.2.26)\n",
      "Requirement already satisfied: nvidia-cublas-cu12==12.1.3.1 in ./.venv/lib/python3.9/site-packages (from torch>=1.11.0->sentence-transformers) (12.1.3.1)\n",
      "Requirement already satisfied: nvidia-cufft-cu12==11.0.2.54 in ./.venv/lib/python3.9/site-packages (from torch>=1.11.0->sentence-transformers) (11.0.2.54)\n",
      "Requirement already satisfied: nvidia-curand-cu12==10.3.2.106 in ./.venv/lib/python3.9/site-packages (from torch>=1.11.0->sentence-transformers) (10.3.2.106)\n",
      "Requirement already satisfied: nvidia-cusolver-cu12==11.4.5.107 in ./.venv/lib/python3.9/site-packages (from torch>=1.11.0->sentence-transformers) (11.4.5.107)\n",
      "Requirement already satisfied: nvidia-cusparse-cu12==12.1.0.106 in ./.venv/lib/python3.9/site-packages (from torch>=1.11.0->sentence-transformers) (12.1.0.106)\n",
      "Requirement already satisfied: nvidia-nccl-cu12==2.19.3 in ./.venv/lib/python3.9/site-packages (from torch>=1.11.0->sentence-transformers) (2.19.3)\n",
      "Requirement already satisfied: nvidia-nvtx-cu12==12.1.105 in ./.venv/lib/python3.9/site-packages (from torch>=1.11.0->sentence-transformers) (12.1.105)\n",
      "Requirement already satisfied: triton==2.2.0 in ./.venv/lib/python3.9/site-packages (from torch>=1.11.0->sentence-transformers) (2.2.0)\n",
      "Requirement already satisfied: nvidia-nvjitlink-cu12 in ./.venv/lib/python3.9/site-packages (from nvidia-cusolver-cu12==11.4.5.107->torch>=1.11.0->sentence-transformers) (12.3.101)\n",
      "Requirement already satisfied: regex!=2019.12.17 in ./.venv/lib/python3.9/site-packages (from transformers<5.0.0,>=4.32.0->sentence-transformers) (2023.12.25)\n",
      "Requirement already satisfied: tokenizers<0.19,>=0.14 in ./.venv/lib/python3.9/site-packages (from transformers<5.0.0,>=4.32.0->sentence-transformers) (0.15.2)\n",
      "Requirement already satisfied: safetensors>=0.4.1 in ./.venv/lib/python3.9/site-packages (from transformers<5.0.0,>=4.32.0->sentence-transformers) (0.4.2)\n",
      "Requirement already satisfied: joblib>=1.2.0 in ./.venv/lib/python3.9/site-packages (from scikit-learn->sentence-transformers) (1.3.2)\n",
      "Requirement already satisfied: threadpoolctl>=2.0.0 in ./.venv/lib/python3.9/site-packages (from scikit-learn->sentence-transformers) (3.3.0)\n",
      "Requirement already satisfied: MarkupSafe>=2.0 in ./.venv/lib/python3.9/site-packages (from jinja2->torch>=1.11.0->sentence-transformers) (2.1.5)\n",
      "Requirement already satisfied: charset-normalizer<4,>=2 in ./.venv/lib/python3.9/site-packages (from requests->huggingface-hub>=0.15.1->sentence-transformers) (3.3.2)\n",
      "Requirement already satisfied: idna<4,>=2.5 in ./.venv/lib/python3.9/site-packages (from requests->huggingface-hub>=0.15.1->sentence-transformers) (3.6)\n",
      "Requirement already satisfied: urllib3<3,>=1.21.1 in ./.venv/lib/python3.9/site-packages (from requests->huggingface-hub>=0.15.1->sentence-transformers) (2.2.1)\n",
      "Requirement already satisfied: certifi>=2017.4.17 in ./.venv/lib/python3.9/site-packages (from requests->huggingface-hub>=0.15.1->sentence-transformers) (2024.2.2)\n",
      "Requirement already satisfied: mpmath>=0.19 in ./.venv/lib/python3.9/site-packages (from sympy->torch>=1.11.0->sentence-transformers) (1.3.0)\n",
      "\n",
      "\u001b[1m[\u001b[0m\u001b[34;49mnotice\u001b[0m\u001b[1;39;49m]\u001b[0m\u001b[39;49m A new release of pip is available: \u001b[0m\u001b[31;49m23.2.1\u001b[0m\u001b[39;49m -> \u001b[0m\u001b[32;49m24.0\u001b[0m\n",
      "\u001b[1m[\u001b[0m\u001b[34;49mnotice\u001b[0m\u001b[1;39;49m]\u001b[0m\u001b[39;49m To update, run: \u001b[0m\u001b[32;49mpip install --upgrade pip\u001b[0m\n",
      "Note: you may need to restart the kernel to use updated packages.\n",
      "Requirement already satisfied: langchain in ./.venv/lib/python3.9/site-packages (0.1.11)\n",
      "Requirement already satisfied: PyYAML>=5.3 in ./.venv/lib/python3.9/site-packages (from langchain) (6.0.1)\n",
      "Requirement already satisfied: SQLAlchemy<3,>=1.4 in ./.venv/lib/python3.9/site-packages (from langchain) (2.0.28)\n",
      "Requirement already satisfied: aiohttp<4.0.0,>=3.8.3 in ./.venv/lib/python3.9/site-packages (from langchain) (3.9.3)\n",
      "Requirement already satisfied: async-timeout<5.0.0,>=4.0.0 in ./.venv/lib/python3.9/site-packages (from langchain) (4.0.3)\n",
      "Requirement already satisfied: dataclasses-json<0.7,>=0.5.7 in ./.venv/lib/python3.9/site-packages (from langchain) (0.6.4)\n",
      "Requirement already satisfied: jsonpatch<2.0,>=1.33 in ./.venv/lib/python3.9/site-packages (from langchain) (1.33)\n",
      "Requirement already satisfied: langchain-community<0.1,>=0.0.25 in ./.venv/lib/python3.9/site-packages (from langchain) (0.0.25)\n",
      "Requirement already satisfied: langchain-core<0.2,>=0.1.29 in ./.venv/lib/python3.9/site-packages (from langchain) (0.1.29)\n",
      "Requirement already satisfied: langchain-text-splitters<0.1,>=0.0.1 in ./.venv/lib/python3.9/site-packages (from langchain) (0.0.1)\n",
      "Requirement already satisfied: langsmith<0.2.0,>=0.1.17 in ./.venv/lib/python3.9/site-packages (from langchain) (0.1.19)\n",
      "Requirement already satisfied: numpy<2,>=1 in ./.venv/lib/python3.9/site-packages (from langchain) (1.26.4)\n",
      "Requirement already satisfied: pydantic<3,>=1 in ./.venv/lib/python3.9/site-packages (from langchain) (2.6.3)\n",
      "Requirement already satisfied: requests<3,>=2 in ./.venv/lib/python3.9/site-packages (from langchain) (2.31.0)\n",
      "Requirement already satisfied: tenacity<9.0.0,>=8.1.0 in ./.venv/lib/python3.9/site-packages (from langchain) (8.2.3)\n",
      "Requirement already satisfied: aiosignal>=1.1.2 in ./.venv/lib/python3.9/site-packages (from aiohttp<4.0.0,>=3.8.3->langchain) (1.3.1)\n",
      "Requirement already satisfied: attrs>=17.3.0 in ./.venv/lib/python3.9/site-packages (from aiohttp<4.0.0,>=3.8.3->langchain) (23.2.0)\n",
      "Requirement already satisfied: frozenlist>=1.1.1 in ./.venv/lib/python3.9/site-packages (from aiohttp<4.0.0,>=3.8.3->langchain) (1.4.1)\n",
      "Requirement already satisfied: multidict<7.0,>=4.5 in ./.venv/lib/python3.9/site-packages (from aiohttp<4.0.0,>=3.8.3->langchain) (6.0.5)\n",
      "Requirement already satisfied: yarl<2.0,>=1.0 in ./.venv/lib/python3.9/site-packages (from aiohttp<4.0.0,>=3.8.3->langchain) (1.9.4)\n",
      "Requirement already satisfied: marshmallow<4.0.0,>=3.18.0 in ./.venv/lib/python3.9/site-packages (from dataclasses-json<0.7,>=0.5.7->langchain) (3.21.1)\n",
      "Requirement already satisfied: typing-inspect<1,>=0.4.0 in ./.venv/lib/python3.9/site-packages (from dataclasses-json<0.7,>=0.5.7->langchain) (0.9.0)\n",
      "Requirement already satisfied: jsonpointer>=1.9 in ./.venv/lib/python3.9/site-packages (from jsonpatch<2.0,>=1.33->langchain) (2.4)\n",
      "Requirement already satisfied: anyio<5,>=3 in ./.venv/lib/python3.9/site-packages (from langchain-core<0.2,>=0.1.29->langchain) (4.3.0)\n",
      "Requirement already satisfied: packaging<24.0,>=23.2 in ./.venv/lib/python3.9/site-packages (from langchain-core<0.2,>=0.1.29->langchain) (23.2)\n",
      "Requirement already satisfied: orjson<4.0.0,>=3.9.14 in ./.venv/lib/python3.9/site-packages (from langsmith<0.2.0,>=0.1.17->langchain) (3.9.15)\n",
      "Requirement already satisfied: annotated-types>=0.4.0 in ./.venv/lib/python3.9/site-packages (from pydantic<3,>=1->langchain) (0.6.0)\n",
      "Requirement already satisfied: pydantic-core==2.16.3 in ./.venv/lib/python3.9/site-packages (from pydantic<3,>=1->langchain) (2.16.3)\n",
      "Requirement already satisfied: typing-extensions>=4.6.1 in ./.venv/lib/python3.9/site-packages (from pydantic<3,>=1->langchain) (4.10.0)\n",
      "Requirement already satisfied: charset-normalizer<4,>=2 in ./.venv/lib/python3.9/site-packages (from requests<3,>=2->langchain) (3.3.2)\n",
      "Requirement already satisfied: idna<4,>=2.5 in ./.venv/lib/python3.9/site-packages (from requests<3,>=2->langchain) (3.6)\n",
      "Requirement already satisfied: urllib3<3,>=1.21.1 in ./.venv/lib/python3.9/site-packages (from requests<3,>=2->langchain) (2.2.1)\n",
      "Requirement already satisfied: certifi>=2017.4.17 in ./.venv/lib/python3.9/site-packages (from requests<3,>=2->langchain) (2024.2.2)\n",
      "Requirement already satisfied: greenlet!=0.4.17 in ./.venv/lib/python3.9/site-packages (from SQLAlchemy<3,>=1.4->langchain) (3.0.3)\n",
      "Requirement already satisfied: sniffio>=1.1 in ./.venv/lib/python3.9/site-packages (from anyio<5,>=3->langchain-core<0.2,>=0.1.29->langchain) (1.3.1)\n",
      "Requirement already satisfied: exceptiongroup>=1.0.2 in ./.venv/lib/python3.9/site-packages (from anyio<5,>=3->langchain-core<0.2,>=0.1.29->langchain) (1.2.0)\n",
      "Requirement already satisfied: mypy-extensions>=0.3.0 in ./.venv/lib/python3.9/site-packages (from typing-inspect<1,>=0.4.0->dataclasses-json<0.7,>=0.5.7->langchain) (1.0.0)\n",
      "\n",
      "\u001b[1m[\u001b[0m\u001b[34;49mnotice\u001b[0m\u001b[1;39;49m]\u001b[0m\u001b[39;49m A new release of pip is available: \u001b[0m\u001b[31;49m23.2.1\u001b[0m\u001b[39;49m -> \u001b[0m\u001b[32;49m24.0\u001b[0m\n",
      "\u001b[1m[\u001b[0m\u001b[34;49mnotice\u001b[0m\u001b[1;39;49m]\u001b[0m\u001b[39;49m To update, run: \u001b[0m\u001b[32;49mpip install --upgrade pip\u001b[0m\n",
      "Note: you may need to restart the kernel to use updated packages.\n",
      "Requirement already satisfied: langchain_core in ./.venv/lib/python3.9/site-packages (0.1.29)\n",
      "Requirement already satisfied: PyYAML>=5.3 in ./.venv/lib/python3.9/site-packages (from langchain_core) (6.0.1)\n",
      "Requirement already satisfied: anyio<5,>=3 in ./.venv/lib/python3.9/site-packages (from langchain_core) (4.3.0)\n",
      "Requirement already satisfied: jsonpatch<2.0,>=1.33 in ./.venv/lib/python3.9/site-packages (from langchain_core) (1.33)\n",
      "Requirement already satisfied: langsmith<0.2.0,>=0.1.0 in ./.venv/lib/python3.9/site-packages (from langchain_core) (0.1.19)\n",
      "Requirement already satisfied: packaging<24.0,>=23.2 in ./.venv/lib/python3.9/site-packages (from langchain_core) (23.2)\n",
      "Requirement already satisfied: pydantic<3,>=1 in ./.venv/lib/python3.9/site-packages (from langchain_core) (2.6.3)\n",
      "Requirement already satisfied: requests<3,>=2 in ./.venv/lib/python3.9/site-packages (from langchain_core) (2.31.0)\n",
      "Requirement already satisfied: tenacity<9.0.0,>=8.1.0 in ./.venv/lib/python3.9/site-packages (from langchain_core) (8.2.3)\n",
      "Requirement already satisfied: idna>=2.8 in ./.venv/lib/python3.9/site-packages (from anyio<5,>=3->langchain_core) (3.6)\n",
      "Requirement already satisfied: sniffio>=1.1 in ./.venv/lib/python3.9/site-packages (from anyio<5,>=3->langchain_core) (1.3.1)\n",
      "Requirement already satisfied: exceptiongroup>=1.0.2 in ./.venv/lib/python3.9/site-packages (from anyio<5,>=3->langchain_core) (1.2.0)\n",
      "Requirement already satisfied: typing-extensions>=4.1 in ./.venv/lib/python3.9/site-packages (from anyio<5,>=3->langchain_core) (4.10.0)\n",
      "Requirement already satisfied: jsonpointer>=1.9 in ./.venv/lib/python3.9/site-packages (from jsonpatch<2.0,>=1.33->langchain_core) (2.4)\n",
      "Requirement already satisfied: orjson<4.0.0,>=3.9.14 in ./.venv/lib/python3.9/site-packages (from langsmith<0.2.0,>=0.1.0->langchain_core) (3.9.15)\n",
      "Requirement already satisfied: annotated-types>=0.4.0 in ./.venv/lib/python3.9/site-packages (from pydantic<3,>=1->langchain_core) (0.6.0)\n",
      "Requirement already satisfied: pydantic-core==2.16.3 in ./.venv/lib/python3.9/site-packages (from pydantic<3,>=1->langchain_core) (2.16.3)\n",
      "Requirement already satisfied: charset-normalizer<4,>=2 in ./.venv/lib/python3.9/site-packages (from requests<3,>=2->langchain_core) (3.3.2)\n",
      "Requirement already satisfied: urllib3<3,>=1.21.1 in ./.venv/lib/python3.9/site-packages (from requests<3,>=2->langchain_core) (2.2.1)\n",
      "Requirement already satisfied: certifi>=2017.4.17 in ./.venv/lib/python3.9/site-packages (from requests<3,>=2->langchain_core) (2024.2.2)\n",
      "\n",
      "\u001b[1m[\u001b[0m\u001b[34;49mnotice\u001b[0m\u001b[1;39;49m]\u001b[0m\u001b[39;49m A new release of pip is available: \u001b[0m\u001b[31;49m23.2.1\u001b[0m\u001b[39;49m -> \u001b[0m\u001b[32;49m24.0\u001b[0m\n",
      "\u001b[1m[\u001b[0m\u001b[34;49mnotice\u001b[0m\u001b[1;39;49m]\u001b[0m\u001b[39;49m To update, run: \u001b[0m\u001b[32;49mpip install --upgrade pip\u001b[0m\n",
      "Note: you may need to restart the kernel to use updated packages.\n",
      "Requirement already satisfied: langchain_community in ./.venv/lib/python3.9/site-packages (0.0.25)\n",
      "Requirement already satisfied: PyYAML>=5.3 in ./.venv/lib/python3.9/site-packages (from langchain_community) (6.0.1)\n",
      "Requirement already satisfied: SQLAlchemy<3,>=1.4 in ./.venv/lib/python3.9/site-packages (from langchain_community) (2.0.28)\n",
      "Requirement already satisfied: aiohttp<4.0.0,>=3.8.3 in ./.venv/lib/python3.9/site-packages (from langchain_community) (3.9.3)\n",
      "Requirement already satisfied: dataclasses-json<0.7,>=0.5.7 in ./.venv/lib/python3.9/site-packages (from langchain_community) (0.6.4)\n",
      "Requirement already satisfied: langchain-core<0.2.0,>=0.1.28 in ./.venv/lib/python3.9/site-packages (from langchain_community) (0.1.29)\n",
      "Requirement already satisfied: langsmith<0.2.0,>=0.1.0 in ./.venv/lib/python3.9/site-packages (from langchain_community) (0.1.19)\n",
      "Requirement already satisfied: numpy<2,>=1 in ./.venv/lib/python3.9/site-packages (from langchain_community) (1.26.4)\n",
      "Requirement already satisfied: requests<3,>=2 in ./.venv/lib/python3.9/site-packages (from langchain_community) (2.31.0)\n",
      "Requirement already satisfied: tenacity<9.0.0,>=8.1.0 in ./.venv/lib/python3.9/site-packages (from langchain_community) (8.2.3)\n",
      "Requirement already satisfied: aiosignal>=1.1.2 in ./.venv/lib/python3.9/site-packages (from aiohttp<4.0.0,>=3.8.3->langchain_community) (1.3.1)\n",
      "Requirement already satisfied: attrs>=17.3.0 in ./.venv/lib/python3.9/site-packages (from aiohttp<4.0.0,>=3.8.3->langchain_community) (23.2.0)\n",
      "Requirement already satisfied: frozenlist>=1.1.1 in ./.venv/lib/python3.9/site-packages (from aiohttp<4.0.0,>=3.8.3->langchain_community) (1.4.1)\n",
      "Requirement already satisfied: multidict<7.0,>=4.5 in ./.venv/lib/python3.9/site-packages (from aiohttp<4.0.0,>=3.8.3->langchain_community) (6.0.5)\n",
      "Requirement already satisfied: yarl<2.0,>=1.0 in ./.venv/lib/python3.9/site-packages (from aiohttp<4.0.0,>=3.8.3->langchain_community) (1.9.4)\n",
      "Requirement already satisfied: async-timeout<5.0,>=4.0 in ./.venv/lib/python3.9/site-packages (from aiohttp<4.0.0,>=3.8.3->langchain_community) (4.0.3)\n",
      "Requirement already satisfied: marshmallow<4.0.0,>=3.18.0 in ./.venv/lib/python3.9/site-packages (from dataclasses-json<0.7,>=0.5.7->langchain_community) (3.21.1)\n",
      "Requirement already satisfied: typing-inspect<1,>=0.4.0 in ./.venv/lib/python3.9/site-packages (from dataclasses-json<0.7,>=0.5.7->langchain_community) (0.9.0)\n",
      "Requirement already satisfied: anyio<5,>=3 in ./.venv/lib/python3.9/site-packages (from langchain-core<0.2.0,>=0.1.28->langchain_community) (4.3.0)\n",
      "Requirement already satisfied: jsonpatch<2.0,>=1.33 in ./.venv/lib/python3.9/site-packages (from langchain-core<0.2.0,>=0.1.28->langchain_community) (1.33)\n",
      "Requirement already satisfied: packaging<24.0,>=23.2 in ./.venv/lib/python3.9/site-packages (from langchain-core<0.2.0,>=0.1.28->langchain_community) (23.2)\n",
      "Requirement already satisfied: pydantic<3,>=1 in ./.venv/lib/python3.9/site-packages (from langchain-core<0.2.0,>=0.1.28->langchain_community) (2.6.3)\n",
      "Requirement already satisfied: orjson<4.0.0,>=3.9.14 in ./.venv/lib/python3.9/site-packages (from langsmith<0.2.0,>=0.1.0->langchain_community) (3.9.15)\n",
      "Requirement already satisfied: charset-normalizer<4,>=2 in ./.venv/lib/python3.9/site-packages (from requests<3,>=2->langchain_community) (3.3.2)\n",
      "Requirement already satisfied: idna<4,>=2.5 in ./.venv/lib/python3.9/site-packages (from requests<3,>=2->langchain_community) (3.6)\n",
      "Requirement already satisfied: urllib3<3,>=1.21.1 in ./.venv/lib/python3.9/site-packages (from requests<3,>=2->langchain_community) (2.2.1)\n",
      "Requirement already satisfied: certifi>=2017.4.17 in ./.venv/lib/python3.9/site-packages (from requests<3,>=2->langchain_community) (2024.2.2)\n",
      "Requirement already satisfied: typing-extensions>=4.6.0 in ./.venv/lib/python3.9/site-packages (from SQLAlchemy<3,>=1.4->langchain_community) (4.10.0)\n",
      "Requirement already satisfied: greenlet!=0.4.17 in ./.venv/lib/python3.9/site-packages (from SQLAlchemy<3,>=1.4->langchain_community) (3.0.3)\n",
      "Requirement already satisfied: sniffio>=1.1 in ./.venv/lib/python3.9/site-packages (from anyio<5,>=3->langchain-core<0.2.0,>=0.1.28->langchain_community) (1.3.1)\n",
      "Requirement already satisfied: exceptiongroup>=1.0.2 in ./.venv/lib/python3.9/site-packages (from anyio<5,>=3->langchain-core<0.2.0,>=0.1.28->langchain_community) (1.2.0)\n",
      "Requirement already satisfied: jsonpointer>=1.9 in ./.venv/lib/python3.9/site-packages (from jsonpatch<2.0,>=1.33->langchain-core<0.2.0,>=0.1.28->langchain_community) (2.4)\n",
      "Requirement already satisfied: annotated-types>=0.4.0 in ./.venv/lib/python3.9/site-packages (from pydantic<3,>=1->langchain-core<0.2.0,>=0.1.28->langchain_community) (0.6.0)\n",
      "Requirement already satisfied: pydantic-core==2.16.3 in ./.venv/lib/python3.9/site-packages (from pydantic<3,>=1->langchain-core<0.2.0,>=0.1.28->langchain_community) (2.16.3)\n",
      "Requirement already satisfied: mypy-extensions>=0.3.0 in ./.venv/lib/python3.9/site-packages (from typing-inspect<1,>=0.4.0->dataclasses-json<0.7,>=0.5.7->langchain_community) (1.0.0)\n",
      "\n",
      "\u001b[1m[\u001b[0m\u001b[34;49mnotice\u001b[0m\u001b[1;39;49m]\u001b[0m\u001b[39;49m A new release of pip is available: \u001b[0m\u001b[31;49m23.2.1\u001b[0m\u001b[39;49m -> \u001b[0m\u001b[32;49m24.0\u001b[0m\n",
      "\u001b[1m[\u001b[0m\u001b[34;49mnotice\u001b[0m\u001b[1;39;49m]\u001b[0m\u001b[39;49m To update, run: \u001b[0m\u001b[32;49mpip install --upgrade pip\u001b[0m\n",
      "Note: you may need to restart the kernel to use updated packages.\n"
     ]
    }
   ],
   "source": [
    "# Ensure that all we need is installed\n",
    "# You may want to skip this \n",
    "%pip install sentence-transformers\n",
    "%pip install langchain\n",
    "%pip install langchain_core\n",
    "%pip install langchain_community"
   ]
  },
  {
   "cell_type": "markdown",
   "id": "180d172e-cca1-481c-87d5-c4f14684604d",
   "metadata": {},
   "source": [
    "# Setup\n",
    "\n",
    "To run this demo we need a running Infinispan instance without authentication and a data file (bbc_news.csv.gz)"
   ]
  },
  {
   "cell_type": "code",
   "execution_count": 4,
   "id": "009da6d1-9d1a-4392-90f1-5c654dd12654",
   "metadata": {},
   "outputs": [
    {
     "name": "stdout",
     "output_type": "stream",
     "text": [
      "infinispanvs-demo\n",
      "25d337666cba9ef664e75959084a915212f5d0b502221b5a1627c8778063f2a4\n"
     ]
    }
   ],
   "source": [
    "!docker rm --force infinispanvs-demo\n",
    "!docker run -d --name infinispanvs-demo -v $(pwd):/user-config  -p 11222:11222 infinispan/server:15.0.0.Dev09 -c /user-config/infinispan-noauth.yaml "
   ]
  },
  {
   "cell_type": "markdown",
   "id": "b575cde9-4c62-47b3-af89-109ed39f56b6",
   "metadata": {},
   "source": [
    "# The Code\n",
    "\n",
    "## Pick up an embedding model\n",
    "\n",
    "In this demo we're using\n",
    "a HuggingFace embedding mode."
   ]
  },
  {
   "cell_type": "code",
   "execution_count": 5,
   "id": "d2c9f46f-3c78-4865-810b-52408dff5fb7",
   "metadata": {},
   "outputs": [
    {
     "name": "stderr",
     "output_type": "stream",
     "text": [
      "/home/rigazilla/git/infinispan-langchain-demo/.venv/lib64/python3.9/site-packages/tqdm/auto.py:21: TqdmWarning: IProgress not found. Please update jupyter and ipywidgets. See https://ipywidgets.readthedocs.io/en/stable/user_install.html\n",
      "  from .autonotebook import tqdm as notebook_tqdm\n"
     ]
    }
   ],
   "source": [
    "from langchain_core.embeddings import Embeddings\n",
    "from langchain.embeddings import HuggingFaceEmbeddings\n",
    "model_name = \"sentence-transformers/all-MiniLM-L12-v2\"\n",
    "hf = HuggingFaceEmbeddings(model_name=model_name)"
   ]
  },
  {
   "cell_type": "markdown",
   "id": "456da9e7-baf4-472a-a9ee-8473aed8cabd",
   "metadata": {},
   "source": [
    "## Prepare the data\n",
    "\n",
    "In this demo we choose to store text,vector and metadata in the same cache, but other options\n",
    "are possible: i.e. content can be store somewhere else and vector store could contain only a reference to the actual content."
   ]
  },
  {
   "cell_type": "code",
   "execution_count": 6,
   "id": "0f6a42d3-c5ec-44ec-9b57-ebe5ca8c301a",
   "metadata": {},
   "outputs": [],
   "source": [
    "import csv, time, gzip\n",
    "# Open the news file and process it as a csv\n",
    "with gzip.open('bbc_news.csv.gz', 'rt', newline='') as csvfile:\n",
    "    spamreader = csv.reader(csvfile, delimiter=',', quotechar='\"')\n",
    "    i=0\n",
    "    texts = []\n",
    "    metas = []\n",
    "    embeds = []\n",
    "    for row in spamreader:\n",
    "        # first and fifth value are joined to form the content\n",
    "        # to be processed\n",
    "        text=row[0]+\".\"+row[4]\n",
    "        texts.append(text)\n",
    "        # Storing meta\n",
    "        # Store text and title as metadata\n",
    "        meta={}\n",
    "        meta[\"text\"]=row[4]\n",
    "        meta[\"title\"]=row[0]\n",
    "        metas.append(meta)\n",
    "        i=i+1\n",
    "        # Change this to change the number of news you want to load\n",
    "        if (i >= 5000):\n",
    "            break"
   ]
  },
  {
   "cell_type": "markdown",
   "id": "a6b00299-94db-43ca-9da3-45d12cdf2db1",
   "metadata": {},
   "source": [
    "# Populate the vector store\n",
    "\n",
    "This cell will create the vector store, all the needed configuration on the\n",
    "Infinispan side is performed by the infinispan_vector module"
   ]
  },
  {
   "cell_type": "code",
   "execution_count": 7,
   "id": "75e135a6-1b38-48eb-96ca-379b6f4a653f",
   "metadata": {},
   "outputs": [],
   "source": [
    "# Creating a langchain_core.VectorStore\n",
    "\n",
    "from infinispan_vector import InfinispanVS\n",
    "ispnvs = InfinispanVS.from_texts(texts=texts, metadatas=metas, embedding=hf)"
   ]
  },
  {
   "cell_type": "markdown",
   "id": "2bb6f053-208d-407e-b8b7-c6c6443522d8",
   "metadata": {},
   "source": [
    "# An helper func that prints the result documents\n",
    "\n",
    "By default InfinispanVS returns the protobuf `text` field in the `Document.page_content`\n",
    "and all the remaining protobuf fields (except the vector) in the `metadata`. This behaviour is\n",
    "configurable via lambda functions at setup."
   ]
  },
  {
   "cell_type": "code",
   "execution_count": 8,
   "id": "594fad38-37f0-4dd4-9785-a99a2f009ae5",
   "metadata": {},
   "outputs": [],
   "source": [
    "def print_docs(docs):\n",
    "    for res, i in zip(docs, range(len(docs))):\n",
    "        print(\"----\"+str(i+1)+\"----\")\n",
    "        print(\"TITLE: \"+res.metadata[\"title\"])        \n",
    "        print(res.page_content)"
   ]
  },
  {
   "cell_type": "markdown",
   "id": "cfa517c7-e741-4f64-9736-6db7a6bd259a",
   "metadata": {},
   "source": [
    "# Try it!!!\n",
    "\n",
    "Below some sample queries"
   ]
  },
  {
   "cell_type": "code",
   "execution_count": 9,
   "id": "86e782b3-5a74-4ca1-a5d1-c0ee935a659e",
   "metadata": {},
   "outputs": [
    {
     "name": "stdout",
     "output_type": "stream",
     "text": [
      "----1----\n",
      "TITLE: EU awards Ukraine and Moldova candidate status\n",
      "President Zelensky calls it a \"unique and historical moment... Ukraine's future is within the EU\".\n",
      "----2----\n",
      "TITLE: Northern Ireland: UK and EU's row risks Western unity, top US official warns\n",
      "US state department warns against \"a big fight between the UK and the EU\" amid the Ukraine war.\n",
      "----3----\n",
      "TITLE: Why ex-French colonies are joining the Commonwealth\n",
      "Behind the Commonwealth's allure as it welcomes Gabon and Togo into its ranks.\n",
      "----4----\n",
      "TITLE: European peace seems as fragile as ever\n",
      "The shifting of European history's tectonic plates is not really that unexpected, explains Kevin Connolly.\n",
      "----5----\n",
      "TITLE: A Nato summit in Madrid for hawks\n",
      "The BBC's Frank Gardner speaks to Nato leaders during the first summit since Russia invaded Ukraine.\n"
     ]
    }
   ],
   "source": [
    "docs = ispnvs.similarity_search(\"European nations\",5)\n",
    "print_docs(docs)"
   ]
  },
  {
   "cell_type": "code",
   "execution_count": 10,
   "id": "b60847f9-ef34-4c79-b276-ac62170e2d6a",
   "metadata": {},
   "outputs": [
    {
     "name": "stdout",
     "output_type": "stream",
     "text": [
      "----1----\n",
      "TITLE: In pictures: Head-turning millinery at Royal Ascot Ladies' Day 2022\n",
      "Racegoers in their fabulous finery for Ladies' Day, on the third day of Royal Ascot.\n",
      "----2----\n",
      "TITLE: Fast fashion: European Union reveals fast fashion crackdown\n",
      "Fast fashion could be a thing of the past under plans to make clothing worn in the EU more sustainable.\n"
     ]
    }
   ],
   "source": [
    "print_docs(ispnvs.similarity_search(\"Milan fashion week begins\",2))"
   ]
  },
  {
   "cell_type": "code",
   "execution_count": 11,
   "id": "6cbb5607-da55-4879-92cf-79ac690cc0c5",
   "metadata": {},
   "outputs": [
    {
     "name": "stdout",
     "output_type": "stream",
     "text": [
      "----1----\n",
      "TITLE: Summer food prices to rise quickly, say grocery analysts\n",
      "There will be a spike in food prices this summer, the Institute of Grocery Distribution predicts.\n",
      "----2----\n",
      "TITLE: Prices rising at fastest rate since 1992\n",
      "Prices went up by 7% in the 12 months to March, as food, fuel and energy prices continued to climb.\n",
      "----3----\n",
      "TITLE: US makes biggest interest rate rise in almost 30 years\n",
      "The US central bank raises rates by 0.75 percentage points as it scrambles to contain soaring prices.\n",
      "----4----\n",
      "TITLE: Why is inflation in US higher than elsewhere?\n",
      "A surge in government spending drove US inflation to the highest of advanced economies last year.\n"
     ]
    }
   ],
   "source": [
    "print_docs(ispnvs.similarity_search(\"Stock market is rising today\",4))"
   ]
  },
  {
   "cell_type": "code",
   "execution_count": null,
   "id": "3bb94ca1-7b1e-41ed-9d8f-b845775d11c1",
   "metadata": {},
   "outputs": [],
   "source": [
    "print_docs(ispnvs.similarity_search(\"Why cats are so viral?\",2))"
   ]
  },
  {
   "cell_type": "code",
   "execution_count": null,
   "id": "a4fca208-b580-483d-9be0-786b6b63a31d",
   "metadata": {},
   "outputs": [],
   "source": [
    "print_docs(ispnvs.similarity_search(\"How to stay young\",5))"
   ]
  },
  {
   "cell_type": "code",
   "execution_count": null,
   "id": "d4a460b8-f0c8-4ae9-a7ff-cf550c3195f1",
   "metadata": {},
   "outputs": [],
   "source": [
    "!docker rm --force infinispanvs-demo"
   ]
  }
 ],
 "metadata": {
  "kernelspec": {
   "display_name": "Python 3 (ipykernel)",
   "language": "python",
   "name": "python3"
  },
  "language_info": {
   "codemirror_mode": {
    "name": "ipython",
    "version": 3
   },
   "file_extension": ".py",
   "mimetype": "text/x-python",
   "name": "python",
   "nbconvert_exporter": "python",
   "pygments_lexer": "ipython3",
   "version": "3.9.18"
  }
 },
 "nbformat": 4,
 "nbformat_minor": 5
}
